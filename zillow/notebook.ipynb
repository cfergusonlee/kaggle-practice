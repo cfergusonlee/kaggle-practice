{
 "cells": [
  {
   "cell_type": "markdown",
   "metadata": {
    "_cell_guid": "ae353a12-9edf-1946-c11c-88d539b113d0",
    "_uuid": "393105ba73035d461c77877975911a1d2d1fb569",
    "deletable": true,
    "editable": true
   },
   "source": [
    "In this notebook, let us try and explore the data given for Zillow prize competition. Before we dive deep into the data, let us know a little more about the competition.\n",
    "\n",
    "**Zillow:**\n",
    "\n",
    "Zillow is an online real estate database company founded in 2006 - Wikipedia\n",
    "\n",
    "**Zestimate:**\n",
    "\n",
    "“Zestimates” are estimated home values based on 7.5 million statistical and machine learning models that analyze hundreds of data points on each property. And, by continually improving the median margin of error (from 14% at the onset to 5% today),\n",
    "\n",
    "**Objective:**\n",
    "\n",
    "Building a model to improve the Zestimate residual error.\n",
    "\n",
    "The competition is in two stages. This public competition will go on till Jan 2018 and has $50,000 in prize. Please make sure to read about the [Prize details][1] and [Competition overview][2] since it is quite different in this one.\n",
    "\n",
    "Let us first import the necessary modules.\n",
    "\n",
    "\n",
    "  [1]: https://www.kaggle.com/c/zillow-prize-1#prizes\n",
    "  [2]: https://www.kaggle.com/c/zillow-prize-1#Competition%20Overview"
   ]
  },
  {
   "cell_type": "code",
   "execution_count": null,
   "metadata": {
    "_cell_guid": "7b0e7606-d591-ad0a-3340-7a98a6f0b519",
    "_uuid": "1dc480b4bf4c570e757855786831e9b7258e6c1b",
    "collapsed": true,
    "deletable": true,
    "editable": true
   },
   "outputs": [],
   "source": [
    "import numpy as np # linear algebra\n",
    "import pandas as pd # data processing, CSV file I/O (e.g. pd.read_csv)\n",
    "import matplotlib.pyplot as plt\n",
    "import seaborn as sns\n",
    "color = sns.color_palette()\n",
    "\n",
    "%matplotlib inline\n",
    "\n",
    "pd.options.mode.chained_assignment = None\n",
    "pd.options.display.max_columns = 999"
   ]
  },
  {
   "cell_type": "markdown",
   "metadata": {
    "_cell_guid": "12443c4c-af3e-d890-9cd0-83e3e08fd6d2",
    "_uuid": "6b26ac819a83caf0488f85ff9a5feb4f59d97eaf",
    "deletable": true,
    "editable": true
   },
   "source": [
    "Let us list the files present in the input folder."
   ]
  },
  {
   "cell_type": "code",
   "execution_count": null,
   "metadata": {
    "_cell_guid": "e9a846eb-7c8e-7c62-7299-4febbb5ebedf",
    "_uuid": "d89aefa558e048394c1df0cb1d2dfacb6f76fa32",
    "collapsed": true,
    "deletable": true,
    "editable": true
   },
   "outputs": [],
   "source": [
    "from subprocess import check_output\n",
    "print(check_output([\"ls\", \"../input\"]).decode(\"utf8\"))"
   ]
  },
  {
   "cell_type": "markdown",
   "metadata": {
    "_cell_guid": "9ed1b204-7eb1-ee23-073a-8085a51d0804",
    "_uuid": "0596806bac1d4b1e95045b894bb2500a5c3f683b",
    "deletable": true,
    "editable": true
   },
   "source": [
    "First let us start with the train file exploration."
   ]
  },
  {
   "cell_type": "code",
   "execution_count": null,
   "metadata": {
    "_cell_guid": "6ed52ad2-5d37-1c05-edca-5d200f497e7b",
    "_uuid": "ad8e233fcd16abdbac5f87cf69e760e09cfcd2bd",
    "collapsed": true,
    "deletable": true,
    "editable": true
   },
   "outputs": [],
   "source": [
    "train_df = pd.read_csv(\"../input/train_2016.csv\", parse_dates=[\"transactiondate\"])\n",
    "train_df.shape"
   ]
  },
  {
   "cell_type": "code",
   "execution_count": null,
   "metadata": {
    "_cell_guid": "553701b1-1508-fb32-7212-4d6c4f6ab796",
    "_uuid": "f9fea7d89b2449096ebb93e2d4e3655ff4027962",
    "collapsed": true,
    "deletable": true,
    "editable": true
   },
   "outputs": [],
   "source": [
    "train_df.head()"
   ]
  },
  {
   "cell_type": "markdown",
   "metadata": {
    "_cell_guid": "7a04bd96-470e-bfc3-8099-a0b6e774ea6a",
    "_uuid": "b034ee10b74e9e1d9337be94993301d5844ac0cd",
    "deletable": true,
    "editable": true
   },
   "source": [
    "**Logerror:**\n",
    "\n",
    "Target variable for this competition is \"logerror\" field. So let us do some analysis on this field first. "
   ]
  },
  {
   "cell_type": "code",
   "execution_count": null,
   "metadata": {
    "_cell_guid": "ff5265e2-3630-a262-da96-4f289ffed677",
    "_uuid": "1780b5aeea981ed7780dbd7d4e14f684f1991b9e",
    "collapsed": true,
    "deletable": true,
    "editable": true
   },
   "outputs": [],
   "source": [
    "plt.figure(figsize=(8,6))\n",
    "plt.scatter(range(train_df.shape[0]), np.sort(train_df.logerror.values))\n",
    "plt.xlabel('index', fontsize=12)\n",
    "plt.ylabel('logerror', fontsize=12)\n",
    "plt.show()"
   ]
  },
  {
   "cell_type": "markdown",
   "metadata": {
    "_cell_guid": "1cce93eb-0687-fcc0-983e-60a2ea59b87e",
    "_uuid": "efa96ca9b7d31eafed29b53b0534aec83613cb02",
    "deletable": true,
    "editable": true
   },
   "source": [
    "This looks nice with some outliers at both the ends.! \n",
    "\n",
    "Let us remove the outliers and then do a histogram plot on the same."
   ]
  },
  {
   "cell_type": "code",
   "execution_count": null,
   "metadata": {
    "_cell_guid": "67ad699f-2314-883d-6cf3-b15f2ebdc7d7",
    "_uuid": "44c5cdaf8099aec54ce18edfea3550ddc37d768b",
    "collapsed": true,
    "deletable": true,
    "editable": true
   },
   "outputs": [],
   "source": [
    "ulimit = np.percentile(train_df.logerror.values, 99)\n",
    "llimit = np.percentile(train_df.logerror.values, 1)\n",
    "train_df['logerror'].ix[train_df['logerror']>ulimit] = ulimit\n",
    "train_df['logerror'].ix[train_df['logerror']<llimit] = llimit\n",
    "\n",
    "plt.figure(figsize=(12,8))\n",
    "sns.distplot(train_df.logerror.values, bins=50, kde=False)\n",
    "plt.xlabel('logerror', fontsize=12)\n",
    "plt.show()"
   ]
  },
  {
   "cell_type": "markdown",
   "metadata": {
    "_cell_guid": "4ca4e0aa-8652-cb13-5ca8-88ef50794147",
    "_uuid": "cce5d537576f4da006dbaf3774f131c62885f4ad",
    "deletable": true,
    "editable": true
   },
   "source": [
    "Wow. nice normal distribution on the log error.\n",
    "\n",
    "**Transaction Date:**\n",
    "\n",
    "Now let us explore the date field. Let us first check the number of transactions in each month. "
   ]
  },
  {
   "cell_type": "code",
   "execution_count": null,
   "metadata": {
    "_cell_guid": "2b641d53-1080-8141-47a9-065eb66ebd09",
    "_uuid": "97f88a3fe2b2e039cd1b8a064d38f66250274e23",
    "collapsed": true,
    "deletable": true,
    "editable": true
   },
   "outputs": [],
   "source": [
    "train_df['transaction_month'] = train_df['transactiondate'].dt.month\n",
    "\n",
    "cnt_srs = train_df['transaction_month'].value_counts()\n",
    "plt.figure(figsize=(12,6))\n",
    "sns.barplot(cnt_srs.index, cnt_srs.values, alpha=0.8, color=color[3])\n",
    "plt.xticks(rotation='vertical')\n",
    "plt.xlabel('Month of transaction', fontsize=12)\n",
    "plt.ylabel('Number of Occurrences', fontsize=12)\n",
    "plt.show()"
   ]
  },
  {
   "cell_type": "markdown",
   "metadata": {
    "_cell_guid": "7d525f89-1091-d0a7-1dc2-ade5c5027259",
    "_uuid": "5f18823d028378c0474527b27e5276b9191f0178",
    "deletable": true,
    "editable": true
   },
   "source": [
    "As we could see from the data page as well\n",
    "*The train data has all the transactions before October 15, 2016, plus some of the transactions after October 15, 2016.*\n",
    "\n",
    "So we have shorter bars in the last three months. \n",
    "\n",
    "**Parcel Id:**"
   ]
  },
  {
   "cell_type": "code",
   "execution_count": null,
   "metadata": {
    "_cell_guid": "e3055a80-3151-0a0e-c388-9c77105cea8c",
    "_uuid": "1a4d8c733e94026a139a47287421e85540f9b7d2",
    "collapsed": true,
    "deletable": true,
    "editable": true
   },
   "outputs": [],
   "source": [
    "(train_df['parcelid'].value_counts().reset_index())['parcelid'].value_counts()"
   ]
  },
  {
   "cell_type": "markdown",
   "metadata": {
    "_cell_guid": "b250fd92-b9ac-da88-5faa-69c22ef142b4",
    "_uuid": "450f9df57ca999700c2da0847919bdd045215214",
    "deletable": true,
    "editable": true
   },
   "source": [
    "So most of the parcel ids are appearing only once in the dataset.\n",
    "\n",
    "**Properties 2016:**\n",
    "\n",
    "Now let us explore the properties_2016 file. "
   ]
  },
  {
   "cell_type": "code",
   "execution_count": null,
   "metadata": {
    "_cell_guid": "e356e5d9-dc5a-a1c7-15d4-47a4b3af1075",
    "_uuid": "77d6dcdcec6002f6626ffe4e4f1005a5d553f2d5",
    "collapsed": true,
    "deletable": true,
    "editable": true
   },
   "outputs": [],
   "source": [
    "prop_df = pd.read_csv(\"../input/properties_2016.csv\")\n",
    "prop_df.shape"
   ]
  },
  {
   "cell_type": "code",
   "execution_count": null,
   "metadata": {
    "_cell_guid": "0a777643-d6d0-e2cd-e2a0-654a97034001",
    "_uuid": "5cce5da968a9ba48e0e8fbb8b0b2974aad95c2f4",
    "collapsed": true,
    "deletable": true,
    "editable": true
   },
   "outputs": [],
   "source": [
    "prop_df.head()"
   ]
  },
  {
   "cell_type": "markdown",
   "metadata": {
    "_cell_guid": "5a4e7b91-5ee2-f972-af70-08e660e93162",
    "_uuid": "91e0540a75cde5c1be395d2b0cb0f7ab023d5a40",
    "deletable": true,
    "editable": true
   },
   "source": [
    "There are so many NaN values in the dataset. So let us first do some exploration on that one. "
   ]
  },
  {
   "cell_type": "code",
   "execution_count": null,
   "metadata": {
    "_cell_guid": "3f13cac6-5d01-fc2d-73be-98472e5a988a",
    "_uuid": "f4dcff34ac369d2910db28def66fc6a84b9b933a",
    "collapsed": true,
    "deletable": true,
    "editable": true
   },
   "outputs": [],
   "source": [
    "missing_df = prop_df.isnull().sum(axis=0).reset_index()\n",
    "missing_df.columns = ['column_name', 'missing_count']\n",
    "missing_df = missing_df.ix[missing_df['missing_count']>0]\n",
    "missing_df = missing_df.sort_values(by='missing_count')\n",
    "\n",
    "ind = np.arange(missing_df.shape[0])\n",
    "width = 0.9\n",
    "fig, ax = plt.subplots(figsize=(12,18))\n",
    "rects = ax.barh(ind, missing_df.missing_count.values, color='blue')\n",
    "ax.set_yticks(ind)\n",
    "ax.set_yticklabels(missing_df.column_name.values, rotation='horizontal')\n",
    "ax.set_xlabel(\"Count of missing values\")\n",
    "ax.set_title(\"Number of missing values in each column\")\n",
    "plt.show()"
   ]
  },
  {
   "cell_type": "markdown",
   "metadata": {
    "_cell_guid": "c9eda5a2-1c29-f7c0-36bc-07aa6b8d4499",
    "_uuid": "172c41c8908268a5738ccf6b70bb74f35451aa4a",
    "deletable": true,
    "editable": true
   },
   "source": [
    "Let us explore the latitude and longitude variable to begin with."
   ]
  },
  {
   "cell_type": "code",
   "execution_count": null,
   "metadata": {
    "_cell_guid": "e33a5c3d-1c0e-ebf9-03fd-ff3a941954d7",
    "_uuid": "fd651fd48978b8cc228f8bbdf46bd9673723b1d3",
    "collapsed": true,
    "deletable": true,
    "editable": true
   },
   "outputs": [],
   "source": [
    "plt.figure(figsize=(12,12))\n",
    "sns.jointplot(x=prop_df.latitude.values, y=prop_df.longitude.values, size=10)\n",
    "plt.ylabel('Longitude', fontsize=12)\n",
    "plt.xlabel('Latitude', fontsize=12)\n",
    "plt.show()"
   ]
  },
  {
   "cell_type": "markdown",
   "metadata": {
    "_cell_guid": "412ae7df-df18-4f37-a324-a30bc231cbd3",
    "_uuid": "4412e0df62eb0ff985deb1d7774d515ff7954054",
    "deletable": true,
    "editable": true
   },
   "source": [
    "From the data page, *we are provided with a full list of real estate properties in three counties (Los Angeles, Orange and Ventura, California) data in 2016.*\n",
    "\n",
    "We have about 90,811 rows in train but we have about 2,985,217 rows in properties file. So let us merge the two files and then carry out our analysis. "
   ]
  },
  {
   "cell_type": "code",
   "execution_count": null,
   "metadata": {
    "_cell_guid": "aacb09c5-1009-a689-a49c-b89a7a7e3826",
    "_uuid": "5f46ea88a5c302fdf7d71b203ed96621b4b59937",
    "collapsed": true,
    "deletable": true,
    "editable": true
   },
   "outputs": [],
   "source": [
    "train_df = pd.merge(train_df, prop_df, on='parcelid', how='left')\n",
    "train_df.head()"
   ]
  },
  {
   "cell_type": "markdown",
   "metadata": {
    "_cell_guid": "fcbb8b2a-9040-7fd8-d08d-f887821f85d5",
    "_uuid": "056b9e410ab937e2dd1ad360c6dd69aa294bf40d",
    "deletable": true,
    "editable": true
   },
   "source": [
    "Now let us check the dtypes of different types of variable."
   ]
  },
  {
   "cell_type": "code",
   "execution_count": null,
   "metadata": {
    "_cell_guid": "b4131373-35f7-7819-1cf0-d8fdf55589c8",
    "_uuid": "0db77e82c2691223f86d3a17e32d2112af5c97ba",
    "collapsed": true,
    "deletable": true,
    "editable": true
   },
   "outputs": [],
   "source": [
    "pd.options.display.max_rows = 65\n",
    "\n",
    "dtype_df = train_df.dtypes.reset_index()\n",
    "dtype_df.columns = [\"Count\", \"Column Type\"]\n",
    "dtype_df"
   ]
  },
  {
   "cell_type": "markdown",
   "metadata": {
    "_cell_guid": "ec4a5fd5-95e6-e564-3b8e-28065cb5e3b4",
    "_uuid": "96b608315bcec3525fdd7b8320b41966bd466cc7",
    "deletable": true,
    "editable": true
   },
   "source": [
    "Almost all are float variables with few object (categorical) variables. Let us get the count. "
   ]
  },
  {
   "cell_type": "code",
   "execution_count": null,
   "metadata": {
    "_cell_guid": "2d546cc2-c74d-afdc-a678-29f59f78f6da",
    "_uuid": "a369cd78339f380eb8981bc5ea7757aec3b6db0e",
    "collapsed": true,
    "deletable": true,
    "editable": true
   },
   "outputs": [],
   "source": [
    "dtype_df.groupby(\"Column Type\").aggregate('count').reset_index()"
   ]
  },
  {
   "cell_type": "markdown",
   "metadata": {
    "_cell_guid": "95ea35b7-f1cd-d8a5-d719-5dfd8d012e75",
    "_uuid": "6163e793766d5c1c352085c4677832283c6e6f8d",
    "deletable": true,
    "editable": true
   },
   "source": [
    "Now let us check the number of Nulls in this new merged dataset."
   ]
  },
  {
   "cell_type": "code",
   "execution_count": null,
   "metadata": {
    "_cell_guid": "e56a107d-91fd-aae0-9cc4-f88604ca81df",
    "_uuid": "2d3908504a15196f1d197e21e967af5d4c8b944c",
    "collapsed": true,
    "deletable": true,
    "editable": true
   },
   "outputs": [],
   "source": [
    "missing_df = train_df.isnull().sum(axis=0).reset_index()\n",
    "missing_df.columns = ['column_name', 'missing_count']\n",
    "missing_df['missing_ratio'] = missing_df['missing_count'] / train_df.shape[0]\n",
    "missing_df.ix[missing_df['missing_ratio']>0.999]"
   ]
  },
  {
   "cell_type": "markdown",
   "metadata": {
    "_cell_guid": "c365beb4-7d74-b36f-187d-7c4c3c288dfa",
    "_uuid": "13a4930d48296aada80e2450b05f04cec4e27bda",
    "deletable": true,
    "editable": true
   },
   "source": [
    "Four columns have missing values 99.9% of the times.!"
   ]
  },
  {
   "cell_type": "markdown",
   "metadata": {
    "_cell_guid": "2abd4104-622c-9ada-b397-b756664f69d3",
    "_uuid": "885be52f6b2531760b7d1c54697585c182e38c2a",
    "deletable": true,
    "editable": true
   },
   "source": [
    "**Univariate Analysis:**\n",
    "\n",
    "Since there are so many variables, let us first take the 'float' variables alone and then get the correlation with the target variable to see how they are related."
   ]
  },
  {
   "cell_type": "code",
   "execution_count": null,
   "metadata": {
    "_cell_guid": "a6592dca-8f7a-cd6b-23df-d87a98ebf934",
    "_uuid": "7a8b5822d52ce46b41824e8636317c1bd31257cd",
    "collapsed": true,
    "deletable": true,
    "editable": true
   },
   "outputs": [],
   "source": [
    "# Let us just impute the missing values with mean values to compute correlation coefficients #\n",
    "mean_values = train_df.mean(axis=0)\n",
    "train_df_new = train_df.fillna(mean_values, inplace=True)\n",
    "\n",
    "# Now let us look at the correlation coefficient of each of these variables #\n",
    "x_cols = [col for col in train_df_new.columns if col not in ['logerror'] if train_df_new[col].dtype=='float64']\n",
    "\n",
    "labels = []\n",
    "values = []\n",
    "for col in x_cols:\n",
    "    labels.append(col)\n",
    "    values.append(np.corrcoef(train_df_new[col].values, train_df_new.logerror.values)[0,1])\n",
    "corr_df = pd.DataFrame({'col_labels':labels, 'corr_values':values})\n",
    "corr_df = corr_df.sort_values(by='corr_values')\n",
    "    \n",
    "ind = np.arange(len(labels))\n",
    "width = 0.9\n",
    "fig, ax = plt.subplots(figsize=(12,40))\n",
    "rects = ax.barh(ind, np.array(corr_df.corr_values.values), color='y')\n",
    "ax.set_yticks(ind)\n",
    "ax.set_yticklabels(corr_df.col_labels.values, rotation='horizontal')\n",
    "ax.set_xlabel(\"Correlation coefficient\")\n",
    "ax.set_title(\"Correlation coefficient of the variables\")\n",
    "#autolabel(rects)\n",
    "plt.show()"
   ]
  },
  {
   "cell_type": "markdown",
   "metadata": {
    "_cell_guid": "92410577-02ba-d92d-b6b3-3673819ede1f",
    "_uuid": "750b5cfda5d40fd9315e3551d68109b561ca0d14",
    "deletable": true,
    "editable": true
   },
   "source": [
    "The correlation of the target variable with the given set of variables are low overall. \n",
    "\n",
    "There are few variables at the top of this graph without any correlation values. I guess they have only one unique value and hence no correlation value. Let us confirm the same."
   ]
  },
  {
   "cell_type": "code",
   "execution_count": null,
   "metadata": {
    "_cell_guid": "2331b242-994c-8865-4fc8-13a62f518788",
    "_uuid": "f91880dec274788835fc0f2066d43068b103a0bb",
    "collapsed": true,
    "deletable": true,
    "editable": true
   },
   "outputs": [],
   "source": [
    "corr_zero_cols = ['assessmentyear', 'storytypeid', 'pooltypeid2', 'pooltypeid7', 'pooltypeid10', 'poolcnt', 'decktypeid', 'buildingclasstypeid']\n",
    "for col in corr_zero_cols:\n",
    "    print(col, len(train_df_new[col].unique()))"
   ]
  },
  {
   "cell_type": "markdown",
   "metadata": {
    "_cell_guid": "927f3dfd-3461-a058-e70d-b23719b45b57",
    "_uuid": "697cd381afe5a0e20b45401c72bbad2ff22e0513",
    "deletable": true,
    "editable": true
   },
   "source": [
    "Let us take the variables with high correlation values and then do some analysis on them. "
   ]
  },
  {
   "cell_type": "code",
   "execution_count": null,
   "metadata": {
    "_cell_guid": "7971e8c3-69c3-7797-9ab4-04d60f2cc889",
    "_uuid": "07ed537b5ee7eaf4623aa1dc251b8ccf5ccbe77b",
    "collapsed": true,
    "deletable": true,
    "editable": true
   },
   "outputs": [],
   "source": [
    "corr_df_sel = corr_df.ix[(corr_df['corr_values']>0.02) | (corr_df['corr_values'] < -0.01)]\n",
    "corr_df_sel"
   ]
  },
  {
   "cell_type": "code",
   "execution_count": null,
   "metadata": {
    "_cell_guid": "78e253cf-ed6a-4e64-834d-f8c2c2ac1788",
    "_uuid": "b80a3bb8e0f2a8b07191aa2508133ec90d067f87",
    "collapsed": true,
    "deletable": true,
    "editable": true
   },
   "outputs": [],
   "source": [
    "cols_to_use = corr_df_sel.col_labels.tolist()\n",
    "\n",
    "temp_df = train_df[cols_to_use]\n",
    "corrmat = temp_df.corr(method='spearman')\n",
    "f, ax = plt.subplots(figsize=(8, 8))\n",
    "\n",
    "# Draw the heatmap using seaborn\n",
    "sns.heatmap(corrmat, vmax=1., square=True)\n",
    "plt.title(\"Important variables correlation map\", fontsize=15)\n",
    "plt.show()"
   ]
  },
  {
   "cell_type": "markdown",
   "metadata": {
    "_cell_guid": "87caaa5f-ed65-6ec1-75e8-af450304f966",
    "_uuid": "52927c77ae97d29d2cb3d2c494a1d0972f9e1277",
    "deletable": true,
    "editable": true
   },
   "source": [
    "The important variables themselves are very highly correlated.! Let us now look at each of them.\n",
    "\n",
    "**Finished SquareFeet 12:**\n",
    "\n",
    "Let us seee how the finished square feet 12 varies with the log error."
   ]
  },
  {
   "cell_type": "code",
   "execution_count": null,
   "metadata": {
    "_cell_guid": "9a051a83-6f9b-e8ba-35b7-a84911d73b6b",
    "_uuid": "81cbd5b6fa9b7ec4d185999661a76c2398a83017",
    "collapsed": true,
    "deletable": true,
    "editable": true
   },
   "outputs": [],
   "source": [
    "col = \"finishedsquarefeet12\"\n",
    "ulimit = np.percentile(train_df[col].values, 99.5)\n",
    "llimit = np.percentile(train_df[col].values, 0.5)\n",
    "train_df[col].ix[train_df[col]>ulimit] = ulimit\n",
    "train_df[col].ix[train_df[col]<llimit] = llimit\n",
    "\n",
    "plt.figure(figsize=(12,12))\n",
    "sns.jointplot(x=train_df.finishedsquarefeet12.values, y=train_df.logerror.values, size=10, color=color[4])\n",
    "plt.ylabel('Log Error', fontsize=12)\n",
    "plt.xlabel('Finished Square Feet 12', fontsize=12)\n",
    "plt.title(\"Finished square feet 12 Vs Log error\", fontsize=15)\n",
    "plt.show()"
   ]
  },
  {
   "cell_type": "markdown",
   "metadata": {
    "_cell_guid": "a47ef671-9fc4-91eb-266c-e5c41a1af987",
    "_uuid": "8c4d9bc94c8d4153da8783579cc3a25e015984d7",
    "deletable": true,
    "editable": true
   },
   "source": [
    "Seems the range of logerror narrows down with increase in finished square feet 12 variable. Probably larger houses are easy to predict?\n",
    "\n",
    "**Calculated finished square feet:**"
   ]
  },
  {
   "cell_type": "code",
   "execution_count": null,
   "metadata": {
    "_cell_guid": "4f782bf2-5753-9017-eab8-e0c8cc0e1236",
    "_uuid": "6dc515c69dbce73798fb04d23b9c1d6bc7dc069c",
    "collapsed": true,
    "deletable": true,
    "editable": true
   },
   "outputs": [],
   "source": [
    "col = \"calculatedfinishedsquarefeet\"\n",
    "ulimit = np.percentile(train_df[col].values, 99.5)\n",
    "llimit = np.percentile(train_df[col].values, 0.5)\n",
    "train_df[col].ix[train_df[col]>ulimit] = ulimit\n",
    "train_df[col].ix[train_df[col]<llimit] = llimit\n",
    "\n",
    "plt.figure(figsize=(12,12))\n",
    "sns.jointplot(x=train_df.calculatedfinishedsquarefeet.values, y=train_df.logerror.values, size=10, color=color[5])\n",
    "plt.ylabel('Log Error', fontsize=12)\n",
    "plt.xlabel('Calculated finished square feet', fontsize=12)\n",
    "plt.title(\"Calculated finished square feet Vs Log error\", fontsize=15)\n",
    "plt.show()"
   ]
  },
  {
   "cell_type": "markdown",
   "metadata": {
    "_cell_guid": "936de827-6302-efb1-993e-be2c113e28bd",
    "_uuid": "5ac4b3eeadfd33ed13a83bb8d81af328cdf31d34",
    "deletable": true,
    "editable": true
   },
   "source": [
    "Here as well the distribution is very similar to the previous one. No wonder the correlation between the two variables are also high.\n",
    "\n",
    "**Bathroom Count:**"
   ]
  },
  {
   "cell_type": "code",
   "execution_count": null,
   "metadata": {
    "_cell_guid": "6fd53daa-e61a-5270-d41d-d8fa7e7e603a",
    "_uuid": "38dee93b63eff400dfc7ca9e3a2ab3c7ea13849d",
    "collapsed": true,
    "deletable": true,
    "editable": true
   },
   "outputs": [],
   "source": [
    "plt.figure(figsize=(12,8))\n",
    "sns.countplot(x=\"bathroomcnt\", data=train_df)\n",
    "plt.ylabel('Count', fontsize=12)\n",
    "plt.xlabel('Bathroom', fontsize=12)\n",
    "plt.xticks(rotation='vertical')\n",
    "plt.title(\"Frequency of Bathroom count\", fontsize=15)\n",
    "plt.show()"
   ]
  },
  {
   "cell_type": "markdown",
   "metadata": {
    "_cell_guid": "90e9db54-5167-5f2f-60da-139802ade846",
    "_uuid": "94e7343a66d21b83a9d2d215d1f5e1ef6f7ad78c",
    "deletable": true,
    "editable": true
   },
   "source": [
    "There is an interesting 2.279 value in the bathroom count.\n",
    "\n",
    "Edit: As MihwaHan pointed in the comments, this is the mean value :)\n",
    "\n",
    "Now let us check how the log error changes based on this."
   ]
  },
  {
   "cell_type": "code",
   "execution_count": null,
   "metadata": {
    "_cell_guid": "5709506f-3dad-fe82-2207-f83fa84662e8",
    "_uuid": "bea2171cfb40f67495c7d16a12af7a19791be386",
    "collapsed": true,
    "deletable": true,
    "editable": true
   },
   "outputs": [],
   "source": [
    "plt.figure(figsize=(12,8))\n",
    "sns.boxplot(x=\"bathroomcnt\", y=\"logerror\", data=train_df)\n",
    "plt.ylabel('Log error', fontsize=12)\n",
    "plt.xlabel('Bathroom Count', fontsize=12)\n",
    "plt.xticks(rotation='vertical')\n",
    "plt.title(\"How log error changes with bathroom count?\", fontsize=15)\n",
    "plt.show()"
   ]
  },
  {
   "cell_type": "markdown",
   "metadata": {
    "_cell_guid": "f3348b3a-0276-6a79-afb2-5183ae4b8f66",
    "_uuid": "9d0fcf22acc8e30cf8c7d675536eb22045d043a9",
    "deletable": true,
    "editable": true
   },
   "source": [
    "**Bedroom count:**"
   ]
  },
  {
   "cell_type": "code",
   "execution_count": null,
   "metadata": {
    "_cell_guid": "89d6cc37-8a90-34fe-d427-feaeb3c3a6c2",
    "_uuid": "549569f04822614e25f942229e62154c7dee8eac",
    "collapsed": true,
    "deletable": true,
    "editable": true
   },
   "outputs": [],
   "source": [
    "plt.figure(figsize=(12,8))\n",
    "sns.countplot(x=\"bedroomcnt\", data=train_df)\n",
    "plt.ylabel('Frequency', fontsize=12)\n",
    "plt.xlabel('Bedroom Count', fontsize=12)\n",
    "plt.xticks(rotation='vertical')\n",
    "plt.title(\"Frequency of Bedroom count\", fontsize=15)\n",
    "plt.show()"
   ]
  },
  {
   "cell_type": "markdown",
   "metadata": {
    "_cell_guid": "7e63558e-1036-764d-8c11-47c4f5e8bfc0",
    "_uuid": "98cf59df0cd193954d7342dd6471893bd1731416",
    "deletable": true,
    "editable": true
   },
   "source": [
    "3.03 is the mean value with which we replaced the Null values."
   ]
  },
  {
   "cell_type": "code",
   "execution_count": null,
   "metadata": {
    "_cell_guid": "957f4ad5-4043-fcfe-3c30-d3dbac494095",
    "_uuid": "b2727cccf4a9339cb3b64ccc8a2afedbea545de0",
    "collapsed": true,
    "deletable": true,
    "editable": true
   },
   "outputs": [],
   "source": [
    "train_df['bedroomcnt'].ix[train_df['bedroomcnt']>7] = 7\n",
    "plt.figure(figsize=(12,8))\n",
    "sns.violinplot(x='bedroomcnt', y='logerror', data=train_df)\n",
    "plt.xlabel('Bedroom count', fontsize=12)\n",
    "plt.ylabel('Log Error', fontsize=12)\n",
    "plt.show()"
   ]
  },
  {
   "cell_type": "code",
   "execution_count": null,
   "metadata": {
    "_cell_guid": "acac05b8-70d8-9e65-1b83-9adb2406d4a3",
    "_uuid": "ffcb5a82ec00df655b2eb1cdb6a613d5da527fc0",
    "collapsed": true,
    "deletable": true,
    "editable": true
   },
   "outputs": [],
   "source": [
    "col = \"taxamount\"\n",
    "ulimit = np.percentile(train_df[col].values, 99.5)\n",
    "llimit = np.percentile(train_df[col].values, 0.5)\n",
    "train_df[col].ix[train_df[col]>ulimit] = ulimit\n",
    "train_df[col].ix[train_df[col]<llimit] = llimit\n",
    "\n",
    "plt.figure(figsize=(12,12))\n",
    "sns.jointplot(x=train_df['taxamount'].values, y=train_df['logerror'].values, size=10, color='g')\n",
    "plt.ylabel('Log Error', fontsize=12)\n",
    "plt.xlabel('Tax Amount', fontsize=12)\n",
    "plt.title(\"Tax Amount Vs Log error\", fontsize=15)\n",
    "plt.show()"
   ]
  },
  {
   "cell_type": "markdown",
   "metadata": {
    "_cell_guid": "e0a42282-764a-1776-6dde-6bf238e6d87d",
    "_uuid": "15c8753a2488a024dea7e80235744af575cda1ec",
    "deletable": true,
    "editable": true
   },
   "source": [
    "**YearBuilt:**\n",
    "\n",
    "Let us explore how the error varies with the yearbuilt variable."
   ]
  },
  {
   "cell_type": "code",
   "execution_count": null,
   "metadata": {
    "_cell_guid": "dcd10464-6b91-f0f2-5c4d-ad654fd60b32",
    "_uuid": "6567221cd36cb07e7a58834f576d77e586197586",
    "collapsed": true,
    "deletable": true,
    "editable": true
   },
   "outputs": [],
   "source": [
    "from ggplot import *\n",
    "ggplot(aes(x='yearbuilt', y='logerror'), data=train_df) + \\\n",
    "    geom_point(color='steelblue', size=1) + \\\n",
    "    stat_smooth()"
   ]
  },
  {
   "cell_type": "markdown",
   "metadata": {
    "_cell_guid": "7461d6f6-4dca-25d8-ee58-51a9068926d8",
    "_uuid": "de8cfffa96c092736a9a56cf7a856a4abfe4c082",
    "deletable": true,
    "editable": true
   },
   "source": [
    "There is a minor incremental trend seen with respect to built year.\n",
    "\n",
    "Now let us see how the logerror varies with respect to latitude and longitude."
   ]
  },
  {
   "cell_type": "code",
   "execution_count": null,
   "metadata": {
    "_cell_guid": "fe919c48-a6e3-e6b2-601f-09ad3e568269",
    "_uuid": "a2c2c9e60c5bc825766f4bdb2c4b8d2c30f7fdbf",
    "collapsed": true,
    "deletable": true,
    "editable": true
   },
   "outputs": [],
   "source": [
    "ggplot(aes(x='latitude', y='longitude', color='logerror'), data=train_df) + \\\n",
    "    geom_point() + \\\n",
    "    scale_color_gradient(low = 'red', high = 'blue')"
   ]
  },
  {
   "cell_type": "markdown",
   "metadata": {
    "_cell_guid": "be81b990-494e-5e75-df67-18548f650b29",
    "_uuid": "d89ab52cd14cb5ee62f35982f7137ecd13c8086b",
    "deletable": true,
    "editable": true
   },
   "source": [
    "There are no visible pockets as such with respect to latitude or longitude atleast with the naked eye.\n",
    "\n",
    "Let us take the variables with highest positive correlation and highest negative correlation to see if we can see some visible patterns."
   ]
  },
  {
   "cell_type": "code",
   "execution_count": null,
   "metadata": {
    "_cell_guid": "ed814938-7acf-ec9c-5070-22ddad06dbfc",
    "_uuid": "ed4644224a02e2cd33c04a75a3639e899ca94b22",
    "collapsed": true,
    "deletable": true,
    "editable": true
   },
   "outputs": [],
   "source": [
    "ggplot(aes(x='finishedsquarefeet12', y='taxamount', color='logerror'), data=train_df) + \\\n",
    "    geom_point(alpha=0.7) + \\\n",
    "    scale_color_gradient(low = 'pink', high = 'blue')"
   ]
  },
  {
   "cell_type": "markdown",
   "metadata": {
    "_cell_guid": "aecf530d-c28b-ea61-c11a-63005f3e1e22",
    "_uuid": "10bb8b9a8702e742f96a3c7354746037d1618c0f",
    "deletable": true,
    "editable": true
   },
   "source": [
    "There are no visible patterns here as well. So this is going to be a hard competition to predict I guess.\n",
    "\n",
    "Just for fun, we will let the machine form some arbitrary pattern for us :D"
   ]
  },
  {
   "cell_type": "code",
   "execution_count": null,
   "metadata": {
    "_cell_guid": "27b18ae9-f711-7b8b-c42f-9133f56340fa",
    "_uuid": "f63d0509c7da51b7c73d247762312325f3d5234d",
    "collapsed": true,
    "deletable": true,
    "editable": true
   },
   "outputs": [],
   "source": [
    "ggplot(aes(x='finishedsquarefeet12', y='taxamount', color='logerror'), data=train_df) + \\\n",
    "    geom_now_its_art()"
   ]
  },
  {
   "cell_type": "markdown",
   "metadata": {
    "_cell_guid": "8b608db2-b0fe-0e7b-ffee-6f5b9509afbb",
    "_uuid": "6a5162773a1db801ce96fd71e3c993c819e31618",
    "deletable": true,
    "editable": true
   },
   "source": [
    "Hurray.! Finally we got some nice pattern in the data :P\n",
    "\n",
    "We had an understanding of important variables from the univariate analysis. But this is on a stand alone basis and also we have linearity assumption. Now let us build a non-linear model to get the important variables by building Extra Trees model."
   ]
  },
  {
   "cell_type": "code",
   "execution_count": null,
   "metadata": {
    "_cell_guid": "91013c8a-9980-62c0-bc4e-e9a2d3e251d7",
    "_uuid": "206e1d00a53bf93cf969762e82a8141827799b9a",
    "collapsed": true,
    "deletable": true,
    "editable": true
   },
   "outputs": [],
   "source": [
    "train_y = train_df['logerror'].values\n",
    "cat_cols = [\"hashottuborspa\", \"propertycountylandusecode\", \"propertyzoningdesc\", \"fireplaceflag\", \"taxdelinquencyflag\"]\n",
    "train_df = train_df.drop(['parcelid', 'logerror', 'transactiondate', 'transaction_month']+cat_cols, axis=1)\n",
    "feat_names = train_df.columns.values\n",
    "\n",
    "from sklearn import ensemble\n",
    "model = ensemble.ExtraTreesRegressor(n_estimators=25, max_depth=30, max_features=0.3, n_jobs=-1, random_state=0)\n",
    "model.fit(train_df, train_y)\n",
    "\n",
    "## plot the importances ##\n",
    "importances = model.feature_importances_\n",
    "std = np.std([tree.feature_importances_ for tree in model.estimators_], axis=0)\n",
    "indices = np.argsort(importances)[::-1][:20]\n",
    "\n",
    "plt.figure(figsize=(12,12))\n",
    "plt.title(\"Feature importances\")\n",
    "plt.bar(range(len(indices)), importances[indices], color=\"r\", yerr=std[indices], align=\"center\")\n",
    "plt.xticks(range(len(indices)), feat_names[indices], rotation='vertical')\n",
    "plt.xlim([-1, len(indices)])\n",
    "plt.show()"
   ]
  },
  {
   "cell_type": "markdown",
   "metadata": {
    "_cell_guid": "3bc28a7d-cb65-58e1-c7fc-0df34998d7a2",
    "_uuid": "ac29f1570444b591b6a3ea372e004ccf0e519b64",
    "deletable": true,
    "editable": true
   },
   "source": [
    "Seems \"tax amount\" is the most importanct variable followed by \"structure tax value dollar count\" and \"land tax value dollor count\"\n",
    "\n"
   ]
  },
  {
   "cell_type": "code",
   "execution_count": null,
   "metadata": {
    "_cell_guid": "e59aeef7-7ec8-0b26-0897-40371a4cda24",
    "_uuid": "43a475ed5114d5d51f6a2bf567efd76c5f7d0df4",
    "collapsed": true,
    "deletable": true,
    "editable": true
   },
   "outputs": [],
   "source": [
    "import xgboost as xgb\n",
    "xgb_params = {\n",
    "    'eta': 0.05,\n",
    "    'max_depth': 8,\n",
    "    'subsample': 0.7,\n",
    "    'colsample_bytree': 0.7,\n",
    "    'objective': 'reg:linear',\n",
    "    'silent': 1,\n",
    "    'seed' : 0\n",
    "}\n",
    "dtrain = xgb.DMatrix(train_df, train_y, feature_names=train_df.columns.values)\n",
    "model = xgb.train(dict(xgb_params, silent=0), dtrain, num_boost_round=50)\n",
    "\n",
    "# plot the important features #\n",
    "fig, ax = plt.subplots(figsize=(12,18))\n",
    "xgb.plot_importance(model, max_num_features=50, height=0.8, ax=ax)\n",
    "plt.show()"
   ]
  },
  {
   "cell_type": "markdown",
   "metadata": {
    "_cell_guid": "cf80ce26-eef4-6b17-c152-973510ab547d",
    "_uuid": "538a648d0141ab2e0149a84011b04c08f43dafa6",
    "deletable": true,
    "editable": true
   },
   "source": [
    "Using xgboost, the important variables are 'structured tax value dollar count' followed by 'latitude' and 'calculated finished square feet' "
   ]
  },
  {
   "cell_type": "markdown",
   "metadata": {
    "_cell_guid": "5026922d-4f83-c0fd-bb20-26d5a8e9224a",
    "_uuid": "d3d91b71acb2f1f8346773c13e29319c9b99803c",
    "deletable": true,
    "editable": true
   },
   "source": [
    "**More to come. Stay tuned.!**\n",
    "\n",
    "**Please upvote if you find it useful :)**"
   ]
  }
 ],
 "metadata": {
  "_change_revision": 0,
  "_is_fork": false,
  "kernelspec": {
   "display_name": "Python [conda env:DAND]",
   "language": "python",
   "name": "conda-env-DAND-py"
  },
  "language_info": {
   "codemirror_mode": {
    "name": "ipython",
    "version": 2
   },
   "file_extension": ".py",
   "mimetype": "text/x-python",
   "name": "python",
   "nbconvert_exporter": "python",
   "pygments_lexer": "ipython2",
   "version": "2.7.12"
  },
  "toc": {
   "nav_menu": {},
   "number_sections": true,
   "sideBar": true,
   "skip_h1_title": true,
   "toc_cell": false,
   "toc_position": {},
   "toc_section_display": "block",
   "toc_window_display": false
  }
 },
 "nbformat": 4,
 "nbformat_minor": 0
}
